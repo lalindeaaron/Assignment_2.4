{
 "cells": [
  {
   "cell_type": "code",
   "execution_count": 16,
   "metadata": {},
   "outputs": [
    {
     "name": "stdout",
     "output_type": "stream",
     "text": [
      "WE, THE PEOPLE OF INDIA,\n",
      "      having solemnly resolved to constitute India into a SOVERIGN,!\n",
      "         SOCIALST, SECULAR, DEMOCRATIC REPUBLIC \n",
      "          and to secure to all its citizens:\n"
     ]
    }
   ],
   "source": [
    "s = 'WE, THE PEOPLE OF INDIA, having solemnly resolved to constitute India into a SOVERIGN, SOCIALST, SECULAR, DEMOCRATIC REPUBLIC and to secure to all its citizens:'\n",
    "new_string = s[0:24] + '\\n     ' + s[24:86] + '!' + '\\n        ' + s[86:126] + '\\n          ' + s[126::]   \n",
    "print(new_string)\n"
   ]
  },
  {
   "cell_type": "code",
   "execution_count": null,
   "metadata": {},
   "outputs": [],
   "source": []
  }
 ],
 "metadata": {
  "kernelspec": {
   "display_name": "Python 3",
   "language": "python",
   "name": "python3"
  },
  "language_info": {
   "codemirror_mode": {
    "name": "ipython",
    "version": 3
   },
   "file_extension": ".py",
   "mimetype": "text/x-python",
   "name": "python",
   "nbconvert_exporter": "python",
   "pygments_lexer": "ipython3",
   "version": "3.6.4"
  }
 },
 "nbformat": 4,
 "nbformat_minor": 2
}
